{
  "nbformat": 4,
  "nbformat_minor": 0,
  "metadata": {
    "colab": {
      "name": "DADV_Exam.ipynb",
      "provenance": [],
      "collapsed_sections": []
    },
    "kernelspec": {
      "name": "python3",
      "display_name": "Python 3"
    }
  },
  "cells": [
    {
      "cell_type": "code",
      "metadata": {
        "id": "nlrJwMl2Sx8d"
      },
      "source": [
        "import urllib\r\n",
        "import pytz\r\n",
        "import pandas_datareader.data as web\r\n",
        "import datetime\r\n",
        "from bs4 import BeautifulSoup\r\n",
        "import csv"
      ],
      "execution_count": 1,
      "outputs": []
    },
    {
      "cell_type": "code",
      "metadata": {
        "id": "kv99FhE4TNza"
      },
      "source": [
        "thisurl = \"https://en.wikipedia.org/wiki/List_of_S%26P_500_companies\" # the wikipedia url containing list of S&P 500 companie\r\n",
        "myPage = urllib.request.urlopen(thisurl) # opens this url\r\n",
        "\r\n",
        "mySoup = BeautifulSoup(myPage, \"html.parser\") # parse html soup \r\n",
        "\r\n",
        "table = mySoup.find('table', {'class': 'wikitable sortable'}) # finds wiki sortable table in webpage html\r\n",
        "\r\n",
        "sector_tickers = dict() # create a dictionary to store all tickers according to sector\r\n",
        "for row in table.findAll('tr'): # find every row in the table\r\n",
        "    col = row.findAll('td') # find every column in that row\r\n",
        "    if len(col) > 0 : # if there are columns in that row\r\n",
        "        sector = str(col[3].string.strip()).lower().replace(' ', '_') # identify the sector in the row\r\n",
        "        if col[0] is not None:\r\n",
        "          ticker = col[0] # identify the ticker in the row\r\n",
        "        if sector not in sector_tickers: # if this sector is not a key in the dictionary\r\n",
        "            sector_tickers[sector] = list() # add this as a key to the dictionary\r\n",
        "        sector_tickers[sector].append(ticker) # add the ticker to right key in the dictionary\r\n",
        "# for i in sector_tickers:\r\n",
        "  # print (i,sector_tickers[i])"
      ],
      "execution_count": 2,
      "outputs": []
    },
    {
      "cell_type": "code",
      "metadata": {
        "id": "tBEfMcYpUpFp"
      },
      "source": [
        "#### Section 2: Queries Yahoo Finance for historical data on tickers\r\n",
        "\r\n",
        "# Start and end dates for historical data\r\n",
        "start = datetime.datetime(2015, 1, 1)  # start date\r\n",
        "end = datetime.datetime(2020, 12, 31) # end date\r\n",
        "\r\n",
        "myKeys = sector_tickers.keys() # find all the sectors which are keys in the dictionary we created in Step 1\r\n",
        "myKeys = (list(myKeys))\r\n",
        "for i in range(0,len(myKeys)): # for each key in the dictionary which represents a sector\r\n",
        "    # print (myKeys[i])\r\n",
        "    myTickers = sector_tickers[myKeys[i]] # find the tickers in that list\r\n",
        "    for j in range(0,len(myTickers)): # for each ticker\r\n",
        "        # print (myTickers[j].a.text)\r\n",
        "        try:\r\n",
        "          myData = web.DataReader(myTickers[j].a.text, 'yahoo', start, end) # query the pandas datareader to pull data from Yahoo! finance\r\n",
        "          fileName = myTickers[j].a.text + '.csv' # create a file\r\n",
        "          myData.to_csv(\"/content/sample_data/files/\"+fileName) # save data to the file\r\n",
        "        except Exception as e:\r\n",
        "          pass"
      ],
      "execution_count": 3,
      "outputs": []
    },
    {
      "cell_type": "code",
      "metadata": {
        "colab": {
          "base_uri": "https://localhost:8080/"
        },
        "id": "shn7Jx4Tc8hC",
        "outputId": "163a85a3-8c59-405d-a56e-ce1784a2162a"
      },
      "source": [
        "import os\r\n",
        "\r\n",
        "print ((os.listdir(\"/content/sample_data/files\")))"
      ],
      "execution_count": 4,
      "outputs": [
        {
          "output_type": "stream",
          "text": [
            "['ACN.csv', 'CHRW.csv', 'MRK.csv', 'ABC.csv', 'SPGI.csv', 'NWS.csv', 'IR.csv', 'CMS.csv', 'AVB.csv', 'SJM.csv', 'NFLX.csv', 'HFC.csv', 'SO.csv', 'REG.csv', 'C.csv', 'AMAT.csv', 'YUM.csv', 'FCX.csv', 'IT.csv', 'BIO.csv', 'IEX.csv', 'DD.csv', 'WY.csv', 'MTB.csv', 'AVY.csv', 'GOOG.csv', 'TJX.csv', 'DOW.csv', 'AXP.csv', 'IVZ.csv', 'DG.csv', 'AVGO.csv', 'WFC.csv', 'PBCT.csv', 'AAL.csv', 'BEN.csv', 'IDXX.csv', 'GM.csv', 'XRAY.csv', 'PSX.csv', 'NVR.csv', 'D.csv', 'HBI.csv', 'AME.csv', 'DXCM.csv', 'VFC.csv', 'BSX.csv', 'QCOM.csv', 'F.csv', 'ODFL.csv', 'HWM.csv', 'WMT.csv', 'MU.csv', 'O.csv', 'LMT.csv', 'UDR.csv', 'MLM.csv', 'ICE.csv', 'CL.csv', 'ED.csv', 'MGM.csv', 'KEY.csv', 'VNO.csv', 'UNH.csv', 'AES.csv', 'SLG.csv', 'AAPL.csv', 'TDG.csv', 'ANSS.csv', 'GPS.csv', 'PHM.csv', 'KMX.csv', 'J.csv', 'BKNG.csv', 'DVA.csv', 'PLD.csv', 'PPG.csv', 'MA.csv', 'MRO.csv', 'GE.csv', 'UA.csv', 'DRI.csv', 'MKTX.csv', 'MS.csv', 'CFG.csv', 'GILD.csv', 'DPZ.csv', 'WMB.csv', 'BAX.csv', 'DLTR.csv', 'LUMN.csv', 'USB.csv', 'SNPS.csv', 'L.csv', 'HES.csv', 'JNPR.csv', 'KIM.csv', 'LYB.csv', 'EVRG.csv', 'ALB.csv', 'LNC.csv', 'ATVI.csv', 'WAT.csv', 'MKC.csv', 'GOOGL.csv', 'TRV.csv', 'VRTX.csv', 'MMM.csv', 'DISCK.csv', 'PAYX.csv', 'TTWO.csv', 'RF.csv', 'GWW.csv', 'CSX.csv', 'MAA.csv', 'WHR.csv', 'CBOE.csv', 'PEAK.csv', 'BWA.csv', 'TEL.csv', 'WDC.csv', 'DLR.csv', 'XEL.csv', 'SPG.csv', 'FTV.csv', 'KR.csv', 'NOC.csv', 'AWK.csv', 'PCAR.csv', 'MPC.csv', 'LDOS.csv', 'VTRS.csv', 'CNC.csv', 'FAST.csv', 'CME.csv', 'KLAC.csv', 'AMCR.csv', 'CINF.csv', 'UPS.csv', 'ARE.csv', 'ORLY.csv', 'CTAS.csv', 'LOW.csv', 'AJG.csv', 'ORCL.csv', 'A.csv', 'UNM.csv', 'HD.csv', 'QRVO.csv', 'LH.csv', 'ESS.csv', 'ATO.csv', 'HAL.csv', 'EXC.csv', 'OMC.csv', 'PAYC.csv', 'FRC.csv', 'JNJ.csv', 'NTRS.csv', 'ZION.csv', 'ZTS.csv', 'FRT.csv', 'MXIM.csv', 'XOM.csv', 'JPM.csv', 'AIG.csv', 'ADI.csv', 'PWR.csv', 'EFX.csv', 'CHD.csv', 'PRU.csv', 'JCI.csv', 'NRG.csv', 'NSC.csv', 'HOLX.csv', 'AIZ.csv', 'UHS.csv', 'DISH.csv', 'CVS.csv', 'ROP.csv', 'PKI.csv', 'ADP.csv', 'CARR.csv', 'NEM.csv', 'PNC.csv', 'PGR.csv', 'VTR.csv', 'MMC.csv', 'EL.csv', 'IFF.csv', 'NCLH.csv', 'TGT.csv', 'LIN.csv', 'FB.csv', 'FTI.csv', 'COO.csv', 'WLTW.csv', 'SIVB.csv', 'WYNN.csv', 'BKR.csv', 'WBA.csv', 'HSIC.csv', 'WRB.csv', 'PEP.csv', 'INTC.csv', 'AOS.csv', 'HAS.csv', 'BR.csv', 'APTV.csv', 'CTSH.csv', 'BAC.csv', 'PYPL.csv', 'WU.csv', 'GL.csv', 'ISRG.csv', 'KMI.csv', 'WM.csv', 'URI.csv', 'PXD.csv', 'GS.csv', 'AMZN.csv', 'EBAY.csv', 'STZ.csv', 'IP.csv', 'VNT.csv', 'FIS.csv', 'PKG.csv', 'SBUX.csv', 'CXO.csv', 'CLX.csv', 'TAP.csv', 'CPB.csv', 'CB.csv', 'LW.csv', 'WEC.csv', 'CRM.csv', 'INCY.csv', 'ADSK.csv', 'MSCI.csv', 'PVH.csv', 'FOXA.csv', 'MOS.csv', 'APA.csv', 'IBM.csv', 'DHI.csv', 'CCI.csv', 'LLY.csv', 'PNW.csv', 'MSFT.csv', 'VAR.csv', 'VRSN.csv', 'BMY.csv', 'DHR.csv', 'TSCO.csv', 'APD.csv', 'TER.csv', 'RE.csv', 'PFE.csv', 'TMUS.csv', 'CTVA.csv', 'ALGN.csv', 'SCHW.csv', 'IQV.csv', 'NEE.csv', 'WAB.csv', 'NLOK.csv', 'ADM.csv', 'CMG.csv', 'LRCX.csv', 'ABMD.csv', 'EQR.csv', 'TXN.csv', 'TFC.csv', 'KSU.csv', 'ETR.csv', 'FFIV.csv', 'PPL.csv', 'XLNX.csv', 'LVS.csv', 'STX.csv', 'DAL.csv', 'GPN.csv', 'POOL.csv', 'MAS.csv', 'AON.csv', 'PRGO.csv', 'HCA.csv', 'AKAM.csv', 'VIAC.csv', 'BDX.csv', 'CNP.csv', 'CBRE.csv', 'TYL.csv', 'MDLZ.csv', 'LUV.csv', 'LHX.csv', 'ALK.csv', 'EMR.csv', 'DRE.csv', 'EOG.csv', 'ITW.csv', 'LNT.csv', 'PG.csv', 'DE.csv', 'AAP.csv', 'FBHS.csv', 'FLIR.csv', 'JKHY.csv', 'BXP.csv', 'ETSY.csv', 'PM.csv', 'ALL.csv', 'EXR.csv', 'VZ.csv', 'CAG.csv', 'EXPE.csv', 'NKE.csv', 'AMP.csv', 'APH.csv', 'CE.csv', 'MAR.csv', 'DXC.csv', 'MTD.csv', 'DUK.csv', 'TT.csv', 'CPRT.csv', 'DISCA.csv', 'WST.csv', 'CSCO.csv', 'FITB.csv', 'TWTR.csv', 'CDNS.csv', 'GPC.csv', 'GD.csv', 'NTAP.csv', 'BBY.csv', 'FANG.csv', 'WRK.csv', 'EQIX.csv', 'NWSA.csv', 'VMC.csv', 'DTE.csv', 'INTU.csv', 'BLK.csv', 'FTNT.csv', 'CAT.csv', 'SYF.csv', 'CI.csv', 'EW.csv', 'NOW.csv', 'HPQ.csv', 'SBAC.csv', 'ETN.csv', 'ZBRA.csv', 'REGN.csv', 'DOV.csv', 'KO.csv', 'NUE.csv', 'LEG.csv', 'VLO.csv', 'NI.csv', 'ILMN.csv', 'ULTA.csv', 'KEYS.csv', 'ROST.csv', 'MCHP.csv', 'INFO.csv', 'LB.csv', 'CMA.csv', 'HUM.csv', 'FDX.csv', 'RMD.csv', 'FISV.csv', 'SHW.csv', 'GIS.csv', 'IRM.csv', 'DGX.csv', 'TIF.csv', 'RSG.csv', 'V.csv', 'NVDA.csv', 'ABT.csv', 'JBHT.csv', 'MET.csv', 'SWK.csv', 'OTIS.csv', 'UAL.csv', 'BLL.csv', 'PSA.csv', 'HPE.csv', 'AMGN.csv', 'LEN.csv', 'MHK.csv', 'T.csv', 'FOX.csv', 'COF.csv', 'BK.csv', 'ECL.csv', 'CAH.csv', 'ALLE.csv', 'FLS.csv', 'AMT.csv', 'ROL.csv', 'MCD.csv', 'SYK.csv', 'HBAN.csv', 'UAA.csv', 'PFG.csv', 'STE.csv', 'DVN.csv', 'UNP.csv', 'LYV.csv', 'ZBH.csv', 'HRL.csv', 'DFS.csv', 'TFX.csv', 'EIX.csv', 'EXPD.csv', 'FMC.csv', 'NLSN.csv', 'HIG.csv', 'EMN.csv', 'PNR.csv', 'CCL.csv', 'TPR.csv', 'TMO.csv', 'SEE.csv', 'FLT.csv', 'KHC.csv', 'TROW.csv', 'MDT.csv', 'SYY.csv', 'SNA.csv', 'IPGP.csv', 'NOV.csv', 'ADBE.csv', 'STT.csv', 'PEG.csv', 'MO.csv', 'CTXS.csv', 'CTLT.csv', 'VRSK.csv', 'AEE.csv', 'DIS.csv', 'HST.csv', 'RTX.csv', 'CF.csv', 'MCK.csv', 'RL.csv', 'WELL.csv', 'GLW.csv', 'CHTR.csv', 'ES.csv', 'MCO.csv', 'CERN.csv', 'AEP.csv', 'HON.csv', 'IPG.csv', 'K.csv', 'COP.csv', 'GRMN.csv', 'BIIB.csv', 'NWL.csv', 'TSLA.csv', 'OKE.csv', 'ANET.csv', 'EA.csv', 'CDW.csv', 'AMD.csv', 'SLB.csv', 'ALXN.csv', 'HII.csv', 'SRE.csv', 'KMB.csv', 'CMI.csv', 'XYL.csv', 'OXY.csv', 'RCL.csv', 'BA.csv', 'AZO.csv', 'COG.csv', 'CVX.csv', 'ABBV.csv', 'PH.csv', 'XRX.csv', 'RJF.csv', 'MNST.csv', 'HSY.csv', 'TXT.csv', 'COST.csv', 'SWKS.csv', 'FE.csv', 'LKQ.csv', 'TSN.csv', 'TDY.csv', 'HLT.csv', 'AFL.csv', 'ROK.csv', 'CMCSA.csv', 'NDAQ.csv', 'MSI.csv', 'RHI.csv', 'ANTM.csv']\n"
          ],
          "name": "stdout"
        }
      ]
    },
    {
      "cell_type": "code",
      "metadata": {
        "colab": {
          "base_uri": "https://localhost:8080/",
          "height": 35
        },
        "id": "-T3xlfBMhnY2",
        "outputId": "5e8ab82e-ff40-4ed9-ea59-30e3cf5cde2c"
      },
      "source": [
        "import shutil\r\n",
        "shutil.make_archive(\"index\", 'zip', \"/content/sample_data/files\")"
      ],
      "execution_count": 5,
      "outputs": [
        {
          "output_type": "execute_result",
          "data": {
            "application/vnd.google.colaboratory.intrinsic+json": {
              "type": "string"
            },
            "text/plain": [
              "'/content/index.zip'"
            ]
          },
          "metadata": {
            "tags": []
          },
          "execution_count": 5
        }
      ]
    },
    {
      "cell_type": "code",
      "metadata": {
        "id": "6jhQbhOblJjy"
      },
      "source": [
        "import pandas as pd\r\n",
        "import numpy as np\r\n",
        "\r\n",
        "files=os.listdir(\"/content/sample_data/files\")\r\n",
        "data=[]\r\n",
        "for j in files:\r\n",
        "  x=pd.read_csv(\"/content/sample_data/files/\"+j)\r\n",
        "  li=[0.00]\r\n",
        "  closed=list(x.Close)\r\n",
        "  for i in range(1,len(closed)):\r\n",
        "    per=((closed[i-1]-closed[i])/closed[i-1])*100\r\n",
        "    li.append(per)\r\n",
        "  x['%Gain or %Loss']=li\r\n",
        "  avg=sum(li)/len(li)\r\n",
        "  data.append([j.split(\".\")[0],avg])\r\n",
        "  x.to_csv(\"/content/sample_data/Daywise/\"+j)\r\n",
        "  df = pd.DataFrame(data, columns = ['StockName', 'AvgGain'])\r\n",
        "  df.to_csv(\"/content/sample_data/avggain.csv\")\r\n"
      ],
      "execution_count": 6,
      "outputs": []
    },
    {
      "cell_type": "code",
      "metadata": {
        "colab": {
          "base_uri": "https://localhost:8080/",
          "height": 402
        },
        "id": "a8LAGztex1_a",
        "outputId": "2e6b0147-f67b-4fab-e86c-0c38c55d182d"
      },
      "source": [
        "avggain=pd.read_csv(\"/content/sample_data/avggain.csv\")\r\n",
        "avggain.sort_values(by=['AvgGain'], inplace=True)\r\n",
        "avggain.to_csv(\"/content/sample_data/avggain.csv\")\r\n",
        "avggain"
      ],
      "execution_count": 7,
      "outputs": [
        {
          "output_type": "execute_result",
          "data": {
            "text/html": [
              "<div>\n",
              "<style scoped>\n",
              "    .dataframe tbody tr th:only-of-type {\n",
              "        vertical-align: middle;\n",
              "    }\n",
              "\n",
              "    .dataframe tbody tr th {\n",
              "        vertical-align: top;\n",
              "    }\n",
              "\n",
              "    .dataframe thead th {\n",
              "        text-align: right;\n",
              "    }\n",
              "</style>\n",
              "<table border=\"1\" class=\"dataframe\">\n",
              "  <thead>\n",
              "    <tr style=\"text-align: right;\">\n",
              "      <th></th>\n",
              "      <th>Unnamed: 0</th>\n",
              "      <th>StockName</th>\n",
              "      <th>AvgGain</th>\n",
              "    </tr>\n",
              "  </thead>\n",
              "  <tbody>\n",
              "    <tr>\n",
              "      <th>182</th>\n",
              "      <td>182</td>\n",
              "      <td>CARR</td>\n",
              "      <td>-0.652483</td>\n",
              "    </tr>\n",
              "    <tr>\n",
              "      <th>468</th>\n",
              "      <td>468</td>\n",
              "      <td>AMD</td>\n",
              "      <td>-0.312127</td>\n",
              "    </tr>\n",
              "    <tr>\n",
              "      <th>224</th>\n",
              "      <td>224</td>\n",
              "      <td>VNT</td>\n",
              "      <td>-0.306874</td>\n",
              "    </tr>\n",
              "    <tr>\n",
              "      <th>380</th>\n",
              "      <td>380</td>\n",
              "      <td>NVDA</td>\n",
              "      <td>-0.256543</td>\n",
              "    </tr>\n",
              "    <tr>\n",
              "      <th>463</th>\n",
              "      <td>463</td>\n",
              "      <td>TSLA</td>\n",
              "      <td>-0.244170</td>\n",
              "    </tr>\n",
              "    <tr>\n",
              "      <th>...</th>\n",
              "      <td>...</td>\n",
              "      <td>...</td>\n",
              "      <td>...</td>\n",
              "    </tr>\n",
              "    <tr>\n",
              "      <th>434</th>\n",
              "      <td>434</td>\n",
              "      <td>NOV</td>\n",
              "      <td>0.055484</td>\n",
              "    </tr>\n",
              "    <tr>\n",
              "      <th>285</th>\n",
              "      <td>285</td>\n",
              "      <td>PRGO</td>\n",
              "      <td>0.056257</td>\n",
              "    </tr>\n",
              "    <tr>\n",
              "      <th>194</th>\n",
              "      <td>194</td>\n",
              "      <td>FTI</td>\n",
              "      <td>0.058269</td>\n",
              "    </tr>\n",
              "    <tr>\n",
              "      <th>469</th>\n",
              "      <td>469</td>\n",
              "      <td>SLB</td>\n",
              "      <td>0.058787</td>\n",
              "    </tr>\n",
              "    <tr>\n",
              "      <th>80</th>\n",
              "      <td>80</td>\n",
              "      <td>UA</td>\n",
              "      <td>0.059778</td>\n",
              "    </tr>\n",
              "  </tbody>\n",
              "</table>\n",
              "<p>503 rows × 3 columns</p>\n",
              "</div>"
            ],
            "text/plain": [
              "     Unnamed: 0 StockName   AvgGain\n",
              "182         182      CARR -0.652483\n",
              "468         468       AMD -0.312127\n",
              "224         224       VNT -0.306874\n",
              "380         380      NVDA -0.256543\n",
              "463         463      TSLA -0.244170\n",
              "..          ...       ...       ...\n",
              "434         434       NOV  0.055484\n",
              "285         285      PRGO  0.056257\n",
              "194         194       FTI  0.058269\n",
              "469         469       SLB  0.058787\n",
              "80           80        UA  0.059778\n",
              "\n",
              "[503 rows x 3 columns]"
            ]
          },
          "metadata": {
            "tags": []
          },
          "execution_count": 7
        }
      ]
    },
    {
      "cell_type": "code",
      "metadata": {
        "id": "1YwTS9mG1sMR"
      },
      "source": [
        "least25=avggain[:25]\r\n",
        "least25.to_csv(\"/content/sample_data/bottom25.csv\")"
      ],
      "execution_count": 8,
      "outputs": []
    },
    {
      "cell_type": "code",
      "metadata": {
        "id": "9N8ZdN4b2BYJ"
      },
      "source": [
        "top25=avggain[len(avggain)-25:]\r\n",
        "top25[::-1].to_csv(\"/content/sample_data/top25.csv\")"
      ],
      "execution_count": 9,
      "outputs": []
    },
    {
      "cell_type": "code",
      "metadata": {
        "id": "UyyKSEKJ2cM7"
      },
      "source": [
        ""
      ],
      "execution_count": 9,
      "outputs": []
    }
  ]
}